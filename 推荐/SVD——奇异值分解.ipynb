{
 "cells": [
  {
   "cell_type": "code",
   "execution_count": 207,
   "metadata": {},
   "outputs": [],
   "source": [
    "import numpy as np\n"
   ]
  },
  {
   "cell_type": "code",
   "execution_count": 11,
   "metadata": {},
   "outputs": [
    {
     "data": {
      "text/plain": [
       "((4, 4), (6, 6), (4,))"
      ]
     },
     "execution_count": 11,
     "metadata": {},
     "output_type": "execute_result"
    }
   ],
   "source": [
    "a = np.arange(24).reshape(4,6)\n",
    "u,s,v = np.linalg.svd(a)\n",
    "u.shape,v.shape,s.shape"
   ]
  },
  {
   "cell_type": "code",
   "execution_count": 12,
   "metadata": {},
   "outputs": [
    {
     "data": {
      "text/plain": [
       "array([6.56235089e+01, 4.18987869e+00, 2.31759128e-15, 1.33649655e-15])"
      ]
     },
     "execution_count": 12,
     "metadata": {},
     "output_type": "execute_result"
    }
   ],
   "source": [
    "s"
   ]
  },
  {
   "cell_type": "code",
   "execution_count": 13,
   "metadata": {},
   "outputs": [],
   "source": [
    "def retore(sigma,u,v,k):\n",
    "    u1 = u[:,:k]\n",
    "    v1 = v[:k,:]\n",
    "    s1 = np.eye(k)\n",
    "    for i in range(k):\n",
    "        s1[i,i] = sigma[i]\n",
    "    return np.dot(np.dot(u1,s1),v1)"
   ]
  },
  {
   "cell_type": "code",
   "execution_count": 15,
   "metadata": {},
   "outputs": [
    {
     "data": {
      "text/plain": [
       "array([[ 0,  1,  2,  3,  4,  5],\n",
       "       [ 6,  7,  8,  9, 10, 11],\n",
       "       [12, 13, 14, 15, 16, 17],\n",
       "       [18, 19, 20, 21, 22, 23]])"
      ]
     },
     "execution_count": 15,
     "metadata": {},
     "output_type": "execute_result"
    }
   ],
   "source": [
    "a"
   ]
  },
  {
   "cell_type": "code",
   "execution_count": 14,
   "metadata": {},
   "outputs": [
    {
     "data": {
      "text/plain": [
       "array([[-1.89149162e-15,  1.00000000e+00,  2.00000000e+00,\n",
       "         3.00000000e+00,  4.00000000e+00,  5.00000000e+00],\n",
       "       [ 6.00000000e+00,  7.00000000e+00,  8.00000000e+00,\n",
       "         9.00000000e+00,  1.00000000e+01,  1.10000000e+01],\n",
       "       [ 1.20000000e+01,  1.30000000e+01,  1.40000000e+01,\n",
       "         1.50000000e+01,  1.60000000e+01,  1.70000000e+01],\n",
       "       [ 1.80000000e+01,  1.90000000e+01,  2.00000000e+01,\n",
       "         2.10000000e+01,  2.20000000e+01,  2.30000000e+01]])"
      ]
     },
     "execution_count": 14,
     "metadata": {},
     "output_type": "execute_result"
    }
   ],
   "source": [
    "retore(s,u,v,2)"
   ]
  },
  {
   "cell_type": "code",
   "execution_count": 25,
   "metadata": {},
   "outputs": [],
   "source": [
    "# 欧氏距离计算相似度(转换到0-1区间,越相似，值越大)\n",
    "def ecludSim(inA,inB):\n",
    "    return 1.0/(1.0+np.linalg.norm(inA-inB))\n",
    "\n",
    "# 皮尔逊相关系数计算相似度（对数值本身不关心，范围-1-1，转换到0-1）\n",
    "def pearsSim(inA,inB):\n",
    "    if len(inA)<3 : \n",
    "        return 1.0\n",
    "    return 0.5+0.5*np.corrcoef(inA,inB,rowvar=0)[0][1]\n",
    "# 余弦相似度计算相似度（范围-1-1，转换到0-1）\n",
    "def cosSim(inA,inB):\n",
    "    num = float(inA.T*inB)\n",
    "    denom = np.linalg.norm(inA)*np.linalg.norm(inB)\n",
    "    return 0.5+0.5*(num/denom)"
   ]
  },
  {
   "cell_type": "code",
   "execution_count": 21,
   "metadata": {
    "collapsed": true
   },
   "outputs": [
    {
     "data": {
      "text/plain": [
       "0.13367660240019172"
      ]
     },
     "execution_count": 21,
     "metadata": {},
     "output_type": "execute_result"
    }
   ],
   "source": [
    "myMat = np.mat(loadExData())\n",
    "ecludSim(myMat[:,0],myMat[:,4])"
   ]
  },
  {
   "cell_type": "code",
   "execution_count": 22,
   "metadata": {
    "collapsed": true
   },
   "outputs": [
    {
     "data": {
      "text/plain": [
       "1.0"
      ]
     },
     "execution_count": 22,
     "metadata": {},
     "output_type": "execute_result"
    }
   ],
   "source": [
    "ecludSim(myMat[:,0],myMat[:,0])"
   ]
  },
  {
   "cell_type": "code",
   "execution_count": 23,
   "metadata": {
    "collapsed": true
   },
   "outputs": [
    {
     "data": {
      "text/plain": [
       "0.23768619407595815"
      ]
     },
     "execution_count": 23,
     "metadata": {},
     "output_type": "execute_result"
    }
   ],
   "source": [
    "pearsSim(myMat[:,0],myMat[:,4])"
   ]
  },
  {
   "cell_type": "code",
   "execution_count": 24,
   "metadata": {
    "collapsed": true
   },
   "outputs": [
    {
     "data": {
      "text/plain": [
       "1.0"
      ]
     },
     "execution_count": 24,
     "metadata": {},
     "output_type": "execute_result"
    }
   ],
   "source": [
    "pearsSim(myMat[:,0],myMat[:,0])"
   ]
  },
  {
   "cell_type": "code",
   "execution_count": 25,
   "metadata": {
    "collapsed": true
   },
   "outputs": [
    {
     "data": {
      "text/plain": [
       "0.5472455591261534"
      ]
     },
     "execution_count": 25,
     "metadata": {},
     "output_type": "execute_result"
    }
   ],
   "source": [
    "cosSim(myMat[:,0],myMat[:,4])"
   ]
  },
  {
   "cell_type": "code",
   "execution_count": 26,
   "metadata": {
    "collapsed": true
   },
   "outputs": [
    {
     "data": {
      "text/plain": [
       "0.9999999999999999"
      ]
     },
     "execution_count": 26,
     "metadata": {},
     "output_type": "execute_result"
    }
   ],
   "source": [
    "cosSim(myMat[:,0],myMat[:,0])"
   ]
  },
  {
   "cell_type": "code",
   "execution_count": 194,
   "metadata": {},
   "outputs": [],
   "source": [
    "# 数据矩阵，用户编号，和相似度的计算方法，未评分下标\n",
    "def standEst(dataMat,user,simMeas,item):\n",
    "    # 获取总列数\n",
    "    n = dataMat.shape[1]\n",
    "    simTotal,ratSimTotal = 0.0,0.0\n",
    "    for j in range(n):\n",
    "        userRaing = dataMat[user,j]\n",
    "        if userRaing == 0:\n",
    "            continue\n",
    "        # 获取两物品评分相同的下标\n",
    "        overLap = np.nonzero(np.logical_and(dataMat[:,item].A>0,dataMat[:,j].A>0))[0]\n",
    "        if len(overLap) == 0:\n",
    "            similarity = 0\n",
    "        else:\n",
    "            # 将两物品进行相似度计算\n",
    "            similarity = simMeas(dataMat[overLap,item],dataMat[overLap,j])\n",
    "        # 相似度累加\n",
    "        simTotal += similarity\n",
    "        # 预测分值（相似度*参照分值）\n",
    "        ratSimTotal+=similarity*userRaing\n",
    "    if simTotal ==0:\n",
    "        return 0\n",
    "    else:\n",
    "        return ratSimTotal/simTotal"
   ]
  },
  {
   "cell_type": "code",
   "execution_count": 195,
   "metadata": {},
   "outputs": [],
   "source": [
    "# 数据矩阵，用户编号，相似度计算方式，预测分值方式\n",
    "def recommend(dataMat,user,N=3,simMeas=cosSim,estMethod=standEst):\n",
    "    # 返回值为0的下标(该用户未评分的物品)\n",
    "    unratedItems = np.nonzero(dataMat[user,:].A==0)[1]\n",
    "    if len(unratedItems) == 0:\n",
    "        return \"已全部评价\"\n",
    "    itemScores=[]\n",
    "    for item in unratedItems:\n",
    "        estimatedscore = estMethod(dataMat,user,simMeas,item)\n",
    "        itemScores.append((item,estimatedscore))\n",
    "    return sorted(itemScores,key=lambda jj:jj[1],reverse=True)[:N]"
   ]
  },
  {
   "cell_type": "code",
   "execution_count": 196,
   "metadata": {},
   "outputs": [],
   "source": [
    "def loadExData():\n",
    "    return [[4, 4, 0, 2, 2],\n",
    "             [4, 0, 0, 3, 3],\n",
    "             [4, 0, 0, 1, 1],\n",
    "             [1, 1, 1, 2, 0],\n",
    "             [2, 2, 2, 0, 0],\n",
    "             [1, 1, 1, 0, 0],\n",
    "             [5, 5, 5, 0, 0]]"
   ]
  },
  {
   "cell_type": "code",
   "execution_count": 197,
   "metadata": {},
   "outputs": [
    {
     "data": {
      "text/plain": [
       "[(2, 2.5), (1, 2.0243290220056256)]"
      ]
     },
     "execution_count": 197,
     "metadata": {},
     "output_type": "execute_result"
    }
   ],
   "source": [
    "myMat = np.mat(loadExData())\n",
    "recommend(myMat,2)"
   ]
  },
  {
   "cell_type": "code",
   "execution_count": null,
   "metadata": {},
   "outputs": [],
   "source": []
  },
  {
   "cell_type": "code",
   "execution_count": 198,
   "metadata": {},
   "outputs": [],
   "source": [
    "def loadExData2():\n",
    "    return[[2, 0, 0, 4, 4, 0, 0, 0, 0, 0, 0],\n",
    "           [0, 0, 0, 0, 0, 0, 0, 0, 0, 0, 5],\n",
    "           [0, 0, 0, 0, 0, 0, 0, 1, 0, 4, 0],\n",
    "           [3, 3, 4, 0, 3, 0, 0, 2, 2, 0, 0],\n",
    "           [5, 5, 5, 0, 0, 0, 0, 0, 0, 0, 0],\n",
    "           [0, 0, 0, 0, 0, 0, 5, 0, 0, 5, 0],\n",
    "           [4, 0, 4, 0, 0, 0, 0, 0, 0, 0, 5],\n",
    "           [0, 0, 0, 0, 0, 4, 0, 0, 0, 0, 4],\n",
    "           [0, 0, 0, 0, 0, 0, 5, 0, 0, 5, 0],\n",
    "           [0, 0, 0, 3, 0, 0, 0, 0, 4, 5, 0],\n",
    "           [1, 1, 2, 1, 1, 2, 1, 0, 4, 5, 0]]"
   ]
  },
  {
   "cell_type": "code",
   "execution_count": 199,
   "metadata": {},
   "outputs": [
    {
     "data": {
      "text/plain": [
       "array([1.34342819e+01, 1.18190832e+01, 8.20176076e+00, 6.86912480e+00,\n",
       "       5.29063022e+00, 3.91213561e+00, 2.94562509e+00, 2.35486137e+00,\n",
       "       2.08702082e+00, 7.08715931e-01, 1.90990329e-16])"
      ]
     },
     "execution_count": 199,
     "metadata": {},
     "output_type": "execute_result"
    }
   ],
   "source": [
    "U,Sigma,VT = np.linalg.svd(np.mat(loadExData2()))\n",
    "Sigma"
   ]
  },
  {
   "cell_type": "code",
   "execution_count": 200,
   "metadata": {},
   "outputs": [],
   "source": [
    "sig2 = Sigma**2"
   ]
  },
  {
   "cell_type": "code",
   "execution_count": 201,
   "metadata": {},
   "outputs": [
    {
     "data": {
      "text/plain": [
       "447.3"
      ]
     },
     "execution_count": 201,
     "metadata": {},
     "output_type": "execute_result"
    }
   ],
   "source": [
    "np.sum(sig2)*0.9"
   ]
  },
  {
   "cell_type": "code",
   "execution_count": 202,
   "metadata": {},
   "outputs": [
    {
     "data": {
      "text/plain": [
       "320.17065834028847"
      ]
     },
     "execution_count": 202,
     "metadata": {},
     "output_type": "execute_result"
    }
   ],
   "source": [
    "np.sum(sig2[:2])"
   ]
  },
  {
   "cell_type": "code",
   "execution_count": 203,
   "metadata": {},
   "outputs": [
    {
     "data": {
      "text/plain": [
       "387.4395378556578"
      ]
     },
     "execution_count": 203,
     "metadata": {},
     "output_type": "execute_result"
    }
   ],
   "source": [
    "np.sum(sig2[:3])"
   ]
  },
  {
   "cell_type": "code",
   "execution_count": 204,
   "metadata": {},
   "outputs": [
    {
     "data": {
      "text/plain": [
       "462.61518152879415"
      ]
     },
     "execution_count": 204,
     "metadata": {},
     "output_type": "execute_result"
    }
   ],
   "source": [
    "np.sum(sig2[:5])"
   ]
  },
  {
   "cell_type": "code",
   "execution_count": 205,
   "metadata": {},
   "outputs": [],
   "source": [
    "def svdEst(dataMat, user, simMeas, item):\n",
    "    n = dataMat.shape[1]\n",
    "    simTotal,ratSimTotal = 0.0,0.0\n",
    "    U,Sigma,VT = np.linalg.svd(dataMat)\n",
    "    Sig4 = np.mat(np.eye(4)*Sigma[:4]) \n",
    "    # 将物品转换到低维空间中\n",
    "    xformedItems = dataMat.T * U[:,:4] * Sig4.I  \n",
    "    for j in range(n):\n",
    "        userRating = dataMat[user,j]\n",
    "        if userRating == 0 or j==item: \n",
    "            continue\n",
    "        similarity = simMeas(xformedItems[item,:].T,xformedItems[j,:].T)\n",
    "        simTotal += similarity\n",
    "        ratSimTotal += similarity * userRating\n",
    "    if simTotal == 0: \n",
    "        return 0\n",
    "    else: \n",
    "        return ratSimTotal/simTotal"
   ]
  },
  {
   "cell_type": "code",
   "execution_count": 206,
   "metadata": {},
   "outputs": [
    {
     "data": {
      "text/plain": [
       "[(2, 3.417756918659238), (1, 3.330717154558564)]"
      ]
     },
     "execution_count": 206,
     "metadata": {},
     "output_type": "execute_result"
    }
   ],
   "source": [
    "recommend(myMat,1,estMethod=svdEst)"
   ]
  },
  {
   "cell_type": "code",
   "execution_count": null,
   "metadata": {},
   "outputs": [],
   "source": []
  }
 ],
 "metadata": {
  "kernelspec": {
   "display_name": "Python 3",
   "language": "python",
   "name": "python3"
  },
  "language_info": {
   "codemirror_mode": {
    "name": "ipython",
    "version": 3
   },
   "file_extension": ".py",
   "mimetype": "text/x-python",
   "name": "python",
   "nbconvert_exporter": "python",
   "pygments_lexer": "ipython3",
   "version": "3.7.4"
  }
 },
 "nbformat": 4,
 "nbformat_minor": 2
}
