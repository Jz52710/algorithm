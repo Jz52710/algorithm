{
 "cells": [
  {
   "cell_type": "code",
   "execution_count": 1,
   "metadata": {},
   "outputs": [],
   "source": [
    "import numpy as np"
   ]
  },
  {
   "cell_type": "code",
   "execution_count": 2,
   "metadata": {},
   "outputs": [
    {
     "data": {
      "text/plain": [
       "((4, 4), (6, 6), (4,))"
      ]
     },
     "execution_count": 2,
     "metadata": {},
     "output_type": "execute_result"
    }
   ],
   "source": [
    "a = np.arange(24).reshape(4,6)\n",
    "u,s,v = np.linalg.svd(a)\n",
    "u.shape,v.shape,s.shape"
   ]
  },
  {
   "cell_type": "code",
   "execution_count": 3,
   "metadata": {},
   "outputs": [
    {
     "data": {
      "text/plain": [
       "array([6.56235089e+01, 4.18987869e+00, 2.31759128e-15, 1.33649655e-15])"
      ]
     },
     "execution_count": 3,
     "metadata": {},
     "output_type": "execute_result"
    }
   ],
   "source": [
    "s"
   ]
  },
  {
   "cell_type": "code",
   "execution_count": 4,
   "metadata": {},
   "outputs": [],
   "source": [
    "def retore(sigma,u,v,k):\n",
    "    ul = u[:,:k]\n",
    "    v1 = v[:k,:]\n",
    "    s1 = np.eye(k)\n",
    "    for i in range(k):\n",
    "        s1[i,i] = sigma[i]\n",
    "    return np.dot(np.dot(u1,s1),v1)"
   ]
  },
  {
   "cell_type": "code",
   "execution_count": 5,
   "metadata": {},
   "outputs": [],
   "source": [
    "# 欧式距离计算相似度(转换到0-1区间，越相似，值越大)\n",
    "def ecludSim(inA,inB):\n",
    "    return 1.0/(1.0+np.linalg.norm(inA-inB))\n",
    "\n",
    "#皮尔逊相关系数计算相似度(对数值本身不关心，范围-1-1，转换到0-1)\n",
    "def persSim(inA,inB):\n",
    "    if len(inA)<3:\n",
    "        return 1.0\n",
    "    return 0.5+0.5*np.corrcoef(inA,inB,rowvar=0)[0][1]\n",
    "\n",
    "#余弦相似度计算相似度(范围-1-1，转换到0-1)\n",
    "def cosSim(inA,inB):\n",
    "    num = float(inA,T*inB)\n",
    "    denom = np.linalg.norm(inA)*np.linalg.norm(inB)\n",
    "    return 0.5+0.5*(num/denom)"
   ]
  },
  {
   "cell_type": "code",
   "execution_count": 6,
   "metadata": {},
   "outputs": [],
   "source": [
    "#数据矩阵，用户编号，和相似度的计算方法，为评分下标\n",
    "def standEst(dataMat,user,simMeas,item):\n",
    "    #获取总列表\n",
    "    n = dataMat.shape[i]\n",
    "    simTotal,ratSimTotal = 0.0,0.0\n",
    "    for j in range(n):\n",
    "        userRaing = dataMat[user,j]\n",
    "        if userRaing == 0:\n",
    "            continue\n",
    "        #获取两物品评分相同的下标\n",
    "        overLap = np.nonzero(np.logical_and(dataMat[:,item].A>0,dataMat[:,j].A>0))[0]\n",
    "        if len(overLap) == 0:\n",
    "            similarity =0\n",
    "        else:\n",
    "            #将俩物品进行相似度计算\n",
    "            similarity = simMeas(dataMat[overLap,item],dataMat[overLap,j])\n",
    "        #相似度累加\n",
    "        simTotal += similarity\n",
    "        #预测分值（相似度*参照分值）\n",
    "        ratSimTotal += similarity*userRaing\n",
    "    if simTotal == 0:\n",
    "        return 0\n",
    "    else:\n",
    "        return ratSimTotal/simTotal"
   ]
  },
  {
   "cell_type": "code",
   "execution_count": 8,
   "metadata": {},
   "outputs": [],
   "source": [
    "#数据矩阵，用户编号，相似度计算方式，预测分值方式\n",
    "def recommend(dataMat,user,N=3,simMeas = cosSim,estMethod = standEst):\n",
    "    #返回值为0的下标(该用户未评分的物品)\n",
    "    unratedItems = np.nonzero(dataMat[user,:].A==0)[1]\n",
    "    if len(unratedItems) == 0:\n",
    "        return \"已全部评价\"\n",
    "    itemScores = []\n",
    "    for item in unratedItems:\n",
    "        estimatedscore = estMethod(dataMat,user,simMeas,item)\n",
    "        itemScore.append((item,estimatedscore))\n",
    "    return sorted(itemScore,key=lambda jj:jj[1],reverse=True)[:N]"
   ]
  },
  {
   "cell_type": "code",
   "execution_count": null,
   "metadata": {},
   "outputs": [],
   "source": []
  }
 ],
 "metadata": {
  "kernelspec": {
   "display_name": "Python 3",
   "language": "python",
   "name": "python3"
  },
  "language_info": {
   "codemirror_mode": {
    "name": "ipython",
    "version": 3
   },
   "file_extension": ".py",
   "mimetype": "text/x-python",
   "name": "python",
   "nbconvert_exporter": "python",
   "pygments_lexer": "ipython3",
   "version": "3.7.4"
  }
 },
 "nbformat": 4,
 "nbformat_minor": 2
}
