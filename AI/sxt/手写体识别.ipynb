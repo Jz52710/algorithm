{
 "cells": [
  {
   "cell_type": "markdown",
   "metadata": {},
   "source": [
    "#  手写体识别系统"
   ]
  },
  {
   "cell_type": "code",
   "execution_count": 7,
   "metadata": {},
   "outputs": [],
   "source": [
    "import os\n",
    "import numpy as np\n",
    "import operator"
   ]
  },
  {
   "cell_type": "code",
   "execution_count": 9,
   "metadata": {},
   "outputs": [],
   "source": [
    "def classify0(inX, dataset,labels,k):\n",
    "    # 计算输入数据和已有所有数据的距离\n",
    "    #dataSetSize=dataset.shape[0]\n",
    "     # 相减\n",
    "    diffMat=inX-dataset\n",
    "    # 平方\n",
    "    sqDiffMat=diffMat**2\n",
    "    # 相加\n",
    "    sqDistances=sqDiffMat.sum(axis=1) #没有axis参数表示全部相加，axis＝0表示按列相加，axis＝1表示按照行的方向相加\n",
    "    # 开根\n",
    "    distances=sqDistances**0.5\n",
    "    #排序\n",
    "    sortedDistIndex=distances.argsort()  #argsort将数据从小到大排列，并返回其索引值\n",
    "    # 选择距离最小的k个点\n",
    "    classCount={} #字典类型\n",
    "    for i in range(k):\n",
    "        votelabel=labels[sortedDistIndex[i]]\n",
    "        classCount[votelabel]=classCount.get(votelabel,0)+1\n",
    "    sortedClasscount=sorted(classCount.items(),key=operator.itemgetter(1),reverse=True)\n",
    "    return sortedClasscount[0][0]"
   ]
  },
  {
   "cell_type": "code",
   "execution_count": 17,
   "metadata": {},
   "outputs": [],
   "source": [
    "def img2vector(filename):\n",
    "    #创建容纳一个样本数据的np组\n",
    "    returnVect = np.zeros((1,1024))\n",
    "    fr = open(filename)\n",
    "    #循环所有行\n",
    "    for i in range(32):\n",
    "        lineStr = fr.readline()\n",
    "        #循环每一行\n",
    "        for j in range(32):\n",
    "            #将文件数据替换np数组\n",
    "            returnVect[0,32*i+j] = int(lineStr[j])\n",
    "    return returnVect"
   ]
  },
  {
   "cell_type": "code",
   "execution_count": 18,
   "metadata": {},
   "outputs": [
    {
     "data": {
      "text/plain": [
       "(1, 1024)"
      ]
     },
     "execution_count": 18,
     "metadata": {},
     "output_type": "execute_result"
    }
   ],
   "source": [
    "testVector = img2vector('testDigits/0_13.txt')\n",
    "testVector.shape"
   ]
  },
  {
   "cell_type": "code",
   "execution_count": 38,
   "metadata": {},
   "outputs": [],
   "source": [
    "def handwritingClassTest():\n",
    "    hwLabels = []\n",
    "    #获取训练数据的目录结构\n",
    "    trainingFileList = os.listdir('trainingDigits')\n",
    "    #获取文件数量\n",
    "    m = len(trainingFileList)\n",
    "    #创建全为0的对应数组\n",
    "    trainingMat = np.zeros((m,1024))\n",
    "    for i in range(m):\n",
    "        fileNameStr = trainingFileList[i]\n",
    "        #过滤后缀名\n",
    "        fileStr = fileNameStr.split('.')[0]\n",
    "        #获取文件对应数字（标签）\n",
    "        classNumStr = int(fileStr.split('_')[0])\n",
    "        #将对应标签放入标签数组中\n",
    "        hwLabels.append(classNumStr)\n",
    "        #将每个转换后的样本数据更换全零数组的对应位置\n",
    "        trainingMat[i,:] = img2vector('trainingDigits/%s'%(fileNameStr))\n",
    "        #获取测试数据的目录结构\n",
    "    testFileList = os.listdir('testDigits')\n",
    "    #初始化错误数量\n",
    "    errorCount = 0.0\n",
    "    mTest = len(testFileList)\n",
    "    for i in range(mTest):\n",
    "        #获取第i个文件名\n",
    "        fileNameStr = testFileList[i]\n",
    "        #过滤后缀名\n",
    "        fileStr = fileNameStr.split('.')[0]\n",
    "        #获取文件对应数字（标签）\n",
    "        classNumStr = int(fileStr.split(\"_\")[0])\n",
    "        #将每个转换后的样本数据更换全零数组的对应位置\n",
    "        vectorUnderTest = img2vector('testDigits/%s'%(fileNameStr))\n",
    "        #获得预测分类\n",
    "        classifierResult = classify0(vectorUnderTest,trainingMat,hwLabels,3)\n",
    "        #对比测试值和预测值\n",
    "        if classifierResult != classNumStr:\n",
    "            errorCount += 1.0\n",
    "    print(\"错误数量为：%d\"%(errorCount))\n",
    "    print(\"错误率：%g\"%(errorCount/float(mTest)))\n",
    "    print(float(mTest))"
   ]
  },
  {
   "cell_type": "code",
   "execution_count": 39,
   "metadata": {},
   "outputs": [
    {
     "name": "stdout",
     "output_type": "stream",
     "text": [
      "错误数量为：10\n",
      "错误率：0.0105708\n",
      "946.0\n"
     ]
    }
   ],
   "source": [
    "handwritingClassTest()"
   ]
  },
  {
   "cell_type": "code",
   "execution_count": null,
   "metadata": {},
   "outputs": [],
   "source": []
  }
 ],
 "metadata": {
  "kernelspec": {
   "display_name": "Python 3",
   "language": "python",
   "name": "python3"
  },
  "language_info": {
   "codemirror_mode": {
    "name": "ipython",
    "version": 3
   },
   "file_extension": ".py",
   "mimetype": "text/x-python",
   "name": "python",
   "nbconvert_exporter": "python",
   "pygments_lexer": "ipython3",
   "version": "3.7.4"
  }
 },
 "nbformat": 4,
 "nbformat_minor": 2
}
