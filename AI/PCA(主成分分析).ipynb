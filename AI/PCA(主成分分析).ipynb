{
 "cells": [
  {
   "cell_type": "code",
   "execution_count": 1,
   "metadata": {},
   "outputs": [],
   "source": [
    "import numpy as np\n",
    "import matplotlib.pyplot as plt"
   ]
  },
  {
   "cell_type": "code",
   "execution_count": 2,
   "metadata": {},
   "outputs": [],
   "source": [
    "def pca(dataMat,topNfeat=9999999):\n",
    "    meanVals = np.mean(dataMat,axis=0)\n",
    "    #去均值\n",
    "    meanRemoved = dataMat - meanVals\n",
    "    #计算协方差，rowvar表示特征值所在方向\n",
    "    covaMat = np.cov(meanRemoved,rowvar=0)#rowvar=0  true  flase\n",
    "    #获取特征值，特征向量\n",
    "    eigVals,eigVects = np.linalg.eig(np.mat(covaMat))\n",
    "    #获取特征值排序下标\n",
    "    eigValInd = np.argsort(eigVals)\n",
    "    #将特征值倒序排列\n",
    "    eigValInd = eigValInd[:-(topNfeat+1):-1]\n",
    "    #将特征向量对应排列\n",
    "    redEigVects = eigVects[:,eigValInd]\n",
    "    #进行降维\n",
    "    lowDDataMat = meanRemoved * redEigVects\n",
    "    #返回原数据\n",
    "    reconMat = (lowDDataMat * redEigVects.T) + meanVals\n",
    "    return lowDDataMat,reconMat"
   ]
  },
  {
   "cell_type": "markdown",
   "metadata": {},
   "source": [
    "# 利用PCA对半导体制造数据降维"
   ]
  },
  {
   "cell_type": "code",
   "execution_count": null,
   "metadata": {},
   "outputs": [],
   "source": []
  }
 ],
 "metadata": {
  "kernelspec": {
   "display_name": "Python 3",
   "language": "python",
   "name": "python3"
  },
  "language_info": {
   "codemirror_mode": {
    "name": "ipython",
    "version": 3
   },
   "file_extension": ".py",
   "mimetype": "text/x-python",
   "name": "python",
   "nbconvert_exporter": "python",
   "pygments_lexer": "ipython3",
   "version": "3.7.4"
  }
 },
 "nbformat": 4,
 "nbformat_minor": 2
}
